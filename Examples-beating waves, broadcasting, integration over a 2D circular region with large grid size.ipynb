{
 "cells": [
  {
   "cell_type": "code",
   "execution_count": 201,
   "id": "b7bac279",
   "metadata": {},
   "outputs": [
    {
     "data": {
      "text/html": [
       "\n",
       "<style>\n",
       ".container {\n",
       "    width: 100% !important;\n",
       "}\n",
       "</style>\n"
      ],
      "text/plain": [
       "<IPython.core.display.HTML object>"
      ]
     },
     "metadata": {},
     "output_type": "display_data"
    }
   ],
   "source": [
    "from IPython.display import display, HTML\n",
    "\n",
    "display(HTML(\"\"\"\n",
    "<style>\n",
    ".container {\n",
    "    width: 100% !important;\n",
    "}\n",
    "</style>\n",
    "\"\"\"))\n"
   ]
  },
  {
   "cell_type": "markdown",
   "id": "394a9f97",
   "metadata": {},
   "source": [
    "## Ex 1: Plot two beating waves"
   ]
  },
  {
   "cell_type": "code",
   "execution_count": null,
   "id": "c6c4ba6d",
   "metadata": {},
   "outputs": [],
   "source": [
    "# Define parameters\n",
    "fs = 10000  # Sampling frequency (Hz)\n",
    "duration = 2  # seconds\n",
    "t = np.linspace(0, duration, int(fs * duration), endpoint=False)\n",
    "\n",
    "# Define two slightly different frequencies\n",
    "f1 = 450 + 20  # Hz\n",
    "f2 = 450  # Hz\n",
    "\n",
    "# Generate sound waves\n",
    "y1 = np.cos(2 * np.pi * f1 * t)\n",
    "y2 = np.cos(2 * np.pi * f2 * t)\n",
    "\n",
    "total_wave = y1 + y2  # Resulting wave showing beating effect\n",
    "\n",
    "envelope = 2 * np.cos(np.pi * (f2 - f1) * t)  # Amplitude envelope\n",
    "\n",
    "# Plot results\n",
    "plt.figure(figsize=(10, 5))\n",
    "plt.plot(t, total_wave, label='Beating Wave', alpha=0.7)\n",
    "plt.plot(t, envelope, 'r--', label='Envelope')\n",
    "plt.plot(t, -envelope, 'r--')\n",
    "plt.xlabel('Time (s)')\n",
    "plt.ylabel('Amplitude')\n",
    "plt.title('Beating of Two Sound Waves')\n",
    "plt.legend()\n",
    "plt.xlim(0, 0.1)  # Zoom in to see the beat effect\n",
    "# plt.grid()\n",
    "plt.show()"
   ]
  },
  {
   "cell_type": "markdown",
   "id": "d24594c7",
   "metadata": {},
   "source": [
    "## Ex 2: Understanding bradcasting vs meshgrid"
   ]
  },
  {
   "cell_type": "code",
   "execution_count": 202,
   "id": "59232250",
   "metadata": {},
   "outputs": [
    {
     "name": "stdout",
     "output_type": "stream",
     "text": [
      "x = [0 1]\n",
      "y = [0 2 4]\n",
      "eps = [0 1 2 3 4 5]\n"
     ]
    }
   ],
   "source": [
    "import numpy as np\n",
    "\n",
    "# Define base 1D arrays\n",
    "x = np.arange(2)               # [0, 1]\n",
    "y = 2 * np.arange(3)           # [0, 2, 4]\n",
    "eps = np.arange(6)             # [0, 1, 2, 3, 4, 5]\n",
    "\n",
    "print(\"x =\", x)\n",
    "print(\"y =\", y)\n",
    "print(\"eps =\", eps)"
   ]
  },
  {
   "cell_type": "code",
   "execution_count": 203,
   "id": "58655563",
   "metadata": {},
   "outputs": [
    {
     "name": "stdout",
     "output_type": "stream",
     "text": [
      "\n",
      "X =\n",
      " [[0 0 0]\n",
      " [1 1 1]]\n",
      "Y =\n",
      " [[0 2 4]\n",
      " [0 2 4]]\n"
     ]
    }
   ],
   "source": [
    "# Create 2D meshgrids using 'ij' indexing (matrix-style)\n",
    "X, Y = np.meshgrid(x, y, indexing='ij')\n",
    "print(\"\\nX =\\n\", X)\n",
    "print(\"Y =\\n\", Y)"
   ]
  },
  {
   "cell_type": "code",
   "execution_count": 204,
   "id": "2944b825",
   "metadata": {},
   "outputs": [
    {
     "name": "stdout",
     "output_type": "stream",
     "text": [
      "\n",
      "X3.shape = (2, 3, 1)\n",
      "X3 =\n",
      " [[[0]\n",
      "  [0]\n",
      "  [0]]\n",
      "\n",
      " [[1]\n",
      "  [1]\n",
      "  [1]]]\n",
      "Y3.shape = (2, 3, 1)\n",
      "Y3 =\n",
      " [[[0]\n",
      "  [2]\n",
      "  [4]]\n",
      "\n",
      " [[0]\n",
      "  [2]\n",
      "  [4]]]\n",
      "\n",
      "ep3.shape = (1, 1, 6)\n",
      "ep3 =\n",
      " [[[0 1 2 3 4 5]]]\n"
     ]
    }
   ],
   "source": [
    "# Expand X and Y to 3D by adding a new axis for broadcasting with eps\n",
    "X3 = X[:, :, np.newaxis]       # shape (2, 3, 1)\n",
    "Y3 = Y[:, :, np.newaxis]       # shape (2, 3, 1)\n",
    "print(\"\\nX3.shape =\", X3.shape)\n",
    "print(\"X3 =\\n\", X3)\n",
    "print(\"Y3.shape =\", Y3.shape)\n",
    "print(\"Y3 =\\n\", Y3)\n",
    "\n",
    "# Reshape eps to 3D for broadcasting\n",
    "ep3 = eps[np.newaxis, np.newaxis, :]   # shape (1, 1, 6)\n",
    "print(\"\\nep3.shape =\", ep3.shape)\n",
    "print(\"ep3 =\\n\", ep3)"
   ]
  },
  {
   "cell_type": "code",
   "execution_count": 205,
   "id": "16b6f503",
   "metadata": {},
   "outputs": [
    {
     "name": "stdout",
     "output_type": "stream",
     "text": [
      "\n",
      "X3_broadcast =\n",
      " [[[0 0 0 0 0 0]\n",
      "  [0 0 0 0 0 0]\n",
      "  [0 0 0 0 0 0]]\n",
      "\n",
      " [[1 1 1 1 1 1]\n",
      "  [1 1 1 1 1 1]\n",
      "  [1 1 1 1 1 1]]]\n",
      "Y3_broadcast =\n",
      " [[[0 0 0 0 0 0]\n",
      "  [2 2 2 2 2 2]\n",
      "  [4 4 4 4 4 4]]\n",
      "\n",
      " [[0 0 0 0 0 0]\n",
      "  [2 2 2 2 2 2]\n",
      "  [4 4 4 4 4 4]]]\n",
      "ep_broadcast =\n",
      " [[[0 1 2 3 4 5]\n",
      "  [0 1 2 3 4 5]\n",
      "  [0 1 2 3 4 5]]\n",
      "\n",
      " [[0 1 2 3 4 5]\n",
      "  [0 1 2 3 4 5]\n",
      "  [0 1 2 3 4 5]]]\n"
     ]
    }
   ],
   "source": [
    "# Broadcast X, Y, and eps to common 3D shape (2, 3, 6)\n",
    "X3_broadcast = X3 + ep3 - ep3          # broadcast X3 to shape of ep3\n",
    "Y3_broadcast = Y3 + ep3 - ep3          # broadcast Y3 to shape of ep3\n",
    "ep_broadcast = ep3 + X3 - X3           # broadcast eps to shape of X3\n",
    "\n",
    "print(\"\\nX3_broadcast =\\n\", X3_broadcast)\n",
    "print(\"Y3_broadcast =\\n\", Y3_broadcast)\n",
    "print(\"ep_broadcast =\\n\", ep_broadcast)"
   ]
  },
  {
   "cell_type": "code",
   "execution_count": 206,
   "id": "54f551e5",
   "metadata": {},
   "outputs": [],
   "source": [
    "# Directly create 3D meshgrids using np.meshgrid in 3D\n",
    "X3G, Y3G, Z3G = np.meshgrid(x, y, eps, indexing='ij')  # shape (2, 3, 6)"
   ]
  },
  {
   "cell_type": "code",
   "execution_count": 207,
   "id": "7eecf31e",
   "metadata": {},
   "outputs": [
    {
     "name": "stdout",
     "output_type": "stream",
     "text": [
      "\n",
      "Meshgrid match results:\n",
      "X3G matches X3_broadcast: True\n",
      "Y3G matches Y3_broadcast: True\n",
      "Z3G matches ep_broadcast: True\n"
     ]
    }
   ],
   "source": [
    "# Confirm equivalence between broadcasted arrays and meshgrid outputs\n",
    "match_X = np.all(X3G == X3_broadcast)\n",
    "match_Y = np.all(Y3G == Y3_broadcast)\n",
    "match_eps = np.all(Z3G == ep_broadcast)\n",
    "\n",
    "print(\"\\nMeshgrid match results:\")\n",
    "print(\"X3G matches X3_broadcast:\", match_X)\n",
    "print(\"Y3G matches Y3_broadcast:\", match_Y)\n",
    "print(\"Z3G matches ep_broadcast:\", match_eps)"
   ]
  },
  {
   "cell_type": "markdown",
   "id": "9e9dd674",
   "metadata": {},
   "source": [
    "#### Integrate over z-axis of a 3D grid"
   ]
  },
  {
   "cell_type": "code",
   "execution_count": 170,
   "id": "afdb668c",
   "metadata": {},
   "outputs": [
    {
     "data": {
      "image/png": "[encoded data removed]",
      "text/plain": [
       "<Figure size 432x288 with 2 Axes>"
      ]
     },
     "metadata": {
      "needs_background": "light"
     },
     "output_type": "display_data"
    }
   ],
   "source": [
    "import matplotlib.pyplot as plt\n",
    "from scipy import integrate  # optional, for Simpson's rule\n",
    "\n",
    "# Evaluate function on the full grid\n",
    "F = np.sin(X3G) + np.cos(Y3G) + Z3G**2\n",
    "\n",
    "# Integrate along z-axis (axis=2) using the trapezoidal rule\n",
    "I = np.trapz(F, eps, axis=2)\n",
    "\n",
    "# Optionally use Simpson’s rule (if eps is evenly spaced and length >= 3)\n",
    "# I = integrate.simpson(F, eps, axis=2)\n",
    "\n",
    "# Create 2D meshgrid for plotting\n",
    "xgrid, ygrid = np.meshgrid(x, y, indexing='ij')\n",
    "\n",
    "# Plot the integrated result\n",
    "plt.figure(figsize=(6, 4))\n",
    "contour = plt.contourf(xgrid, ygrid, I, levels=20, cmap='plasma')\n",
    "plt.colorbar(contour, label='Integrated F')\n",
    "plt.title('Integrated F(x, y, z) over z-axis')\n",
    "plt.xlabel('x')\n",
    "plt.ylabel('y')\n",
    "plt.axis('equal')\n",
    "plt.tight_layout()\n",
    "plt.show()\n"
   ]
  },
  {
   "cell_type": "code",
   "execution_count": null,
   "id": "af31eadd",
   "metadata": {},
   "outputs": [],
   "source": []
  },
  {
   "cell_type": "markdown",
   "id": "1bd0d474",
   "metadata": {},
   "source": [
    "## Ex 3: Working with large meshgrid size: replacing 3D grid by, 2D grid and  broadcasting\n",
    "#### Note: Matrix size of 2000 $\\times$2000 $\\times$500 can be calculated smoothly with the below approach where making 3D meshgrid makes run time very large/unattainable."
   ]
  },
  {
   "cell_type": "code",
   "execution_count": 255,
   "id": "225ee6b0",
   "metadata": {},
   "outputs": [
    {
     "data": {
      "image/png": "[encoded data removed]",
      "text/plain": [
       "<Figure size 432x360 with 2 Axes>"
      ]
     },
     "metadata": {
      "needs_background": "light"
     },
     "output_type": "display_data"
    }
   ],
   "source": [
    "import numpy as np\n",
    "import matplotlib.pyplot as plt\n",
    "\n",
    "# 1. Define symmetric base arrays\n",
    "x = np.linspace(-1, 1, 2000)\n",
    "y = np.linspace(-1, 1, 2000)\n",
    "z = np.linspace(0, 1, 500)\n",
    "\n",
    "Nx, Ny, Nz = len(x), len(y), len(z)\n",
    "chunk_size = 10\n",
    "\n",
    "# 2. Create meshgrid in (x, y)\n",
    "X2d, Y2d = np.meshgrid(x, y, indexing=\"ij\")\n",
    "\n",
    "# 3. Allocate integration result\n",
    "I = np.zeros((Nx, Ny))\n",
    "\n",
    "# 4. Integrate over z in chunks\n",
    "for start in range(0, Nz, chunk_size):\n",
    "    end = min(start + chunk_size, Nz)\n",
    "    z_chunk = z[start:end]\n",
    "    Z_chunk = z_chunk[None, None, :]\n",
    "\n",
    "    F_chunk = np.sin(X2d[..., None]) + np.cos(Y2d[..., None]) + Z_chunk**2\n",
    "    I += np.trapz(F_chunk, z_chunk, axis=2)\n",
    "\n",
    "# 5. Circular mask: only keep points within radius r_max\n",
    "r_max = 0.9\n",
    "radius_sq = X2d**2 + Y2d**2\n",
    "mask = radius_sq > r_max**2\n",
    "I_masked = np.ma.array(I, mask=mask)\n",
    "\n",
    "# 6. Plot\n",
    "plt.figure(figsize=(6, 5))\n",
    "vmin, vmax = I_masked.min(), I_masked.max()\n",
    "\n",
    "pcm = plt.pcolormesh(x, y, I_masked.T, shading=\"auto\", vmin=vmin, vmax=vmax)\n",
    "cbar = plt.colorbar(pcm, label=\"Integrated value\")\n",
    "cbar.set_ticks([vmin, vmax])\n",
    "cbar.set_ticklabels([f\"{vmin:.4g}\", f\"{vmax:.4g}\"])\n",
    "\n",
    "\n",
    "plt.xlabel(\"x\")\n",
    "plt.ylabel(\"y\")\n",
    "plt.title(\"Chunked integration with circular mask\")\n",
    "plt.gca().set_aspect(\"equal\")\n",
    "plt.tight_layout()\n",
    "plt.show()\n"
   ]
  },
  {
   "cell_type": "code",
   "execution_count": null,
   "id": "325736c5",
   "metadata": {},
   "outputs": [],
   "source": []
  }
 ],
 "metadata": {
  "kernelspec": {
   "display_name": "Python 3 (ipykernel)",
   "language": "python",
   "name": "python3"
  },
  "language_info": {
   "codemirror_mode": {
    "name": "ipython",
    "version": 3
   },
   "file_extension": ".py",
   "mimetype": "text/x-python",
   "name": "python",
   "nbconvert_exporter": "python",
   "pygments_lexer": "ipython3",
   "version": "3.8.8"
  }
 },
 "nbformat": 4,
 "nbformat_minor": 5
}
